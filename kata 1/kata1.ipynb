{
 "cells": [
  {
   "cell_type": "markdown",
   "metadata": {},
   "source": [
    "## A que fecha estan en la tierra\n",
    "La tripulacion puede ver aqui la fecha y hora en la que los habitantes de la tierra estan :)"
   ]
  },
  {
   "cell_type": "code",
   "execution_count": 53,
   "metadata": {},
   "outputs": [
    {
     "name": "stdout",
     "output_type": "stream",
     "text": [
      "La fecha de hoy es:2022-02-06 y la hora es: 13 : 29\n"
     ]
    }
   ],
   "source": [
    "from datetime import date, datetime;\n",
    "tiempo_dhoy = datetime.now()\n",
    "print(\"La fecha de hoy es:\"+ str(date.today()), \"y la hora es:\",tiempo_dhoy.hour,\":\",tiempo_dhoy.minute)"
   ]
  },
  {
   "cell_type": "markdown",
   "metadata": {},
   "source": [
    "## De parasecs a años luz!\n",
    "Usame para convertir los parasecs a años luz!"
   ]
  },
  {
   "cell_type": "code",
   "execution_count": 52,
   "metadata": {},
   "outputs": [
    {
     "name": "stdout",
     "output_type": "stream",
     "text": [
      "11 parasecs es igual a 35.877159999999996 años luz\n"
     ]
    }
   ],
   "source": [
    "parasec =  11\n",
    "años_luz = 3.26156\n",
    "print(parasec, \"parasecs es igual a\", (años_luz*parasec), \"años luz\")"
   ]
  }
 ],
 "metadata": {
  "interpreter": {
   "hash": "08ba39574233dfefb8a39b9bc7b269280d01e13e950bf6d3b9545a56ae7ddc32"
  },
  "kernelspec": {
   "display_name": "Python 3.9.6 64-bit",
   "language": "python",
   "name": "python3"
  },
  "language_info": {
   "codemirror_mode": {
    "name": "ipython",
    "version": 3
   },
   "file_extension": ".py",
   "mimetype": "text/x-python",
   "name": "python",
   "nbconvert_exporter": "python",
   "pygments_lexer": "ipython3",
   "version": "3.9.6"
  },
  "orig_nbformat": 4
 },
 "nbformat": 4,
 "nbformat_minor": 2
}
