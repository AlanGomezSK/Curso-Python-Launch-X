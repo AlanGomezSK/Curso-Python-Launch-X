{
 "cells": [
  {
   "cell_type": "markdown",
   "metadata": {},
   "source": [
    "## Primer Ejercicio de prueba sobre los if elif y else"
   ]
  },
  {
   "cell_type": "code",
   "execution_count": 1,
   "metadata": {},
   "outputs": [],
   "source": [
    "import time;\n",
    "def ejercicio_prueba():\n",
    "    numero1 = float(input(\"Porfavor ingrese un numero\"))\n",
    "    numero2 = float(input(\"ingrese otro numero\"))\n",
    "    suma= numero1 + numero2\n",
    "    if 100 > suma > 0:\n",
    "        print(\"tu suma es mayor que o igual a 0, el resultado es =\", suma)\n",
    "        print(\"deseas hacer otra suma? 1(si), 2(no)\")\n",
    "        opcion = int(input())\n",
    "        if opcion == 1:\n",
    "            numero1 = float(input(\"Porfavor ingrese un numero\"))\n",
    "            numero2 = float(input(\"ingrese otro numero\"))\n",
    "            suma= numero1 + numero2\n",
    "            print(\"el resultado de tu suma es =\", suma)\n",
    "        elif opcion == 2:\n",
    "            print(\"programa finalizado\")\n",
    "            time.sleep(2)\n",
    "    elif suma > 100:\n",
    "        print(\"tu suma es mayor que 100, el resultado es =\",suma)\n",
    "        print(\"deseas hacer otra suma? 1(si), 2(no)\")\n",
    "        opcion = int(input())\n",
    "        if opcion == 1:\n",
    "            numero1 = float(input(\"Porfavor ingrese un numero\"))\n",
    "            numero2 = float(input(\"ingrese otro numero\"))\n",
    "            suma= numero1 + numero2\n",
    "            print(\"el resultado de tu suma es =\", suma)\n",
    "        elif opcion == 2:\n",
    "            print(\"programa finalizado\")\n",
    "            time.sleep(2)\n",
    "    else:\n",
    "        print(\"el resultado de tu suma es un numero negativo, tu resultado es =\", suma)\n",
    "        print(\"deseas hacer otra suma? 1(si), 2(no)\")\n",
    "        opcion = int(input())\n",
    "        if opcion == 1:\n",
    "            numero1 = float(input(\"Porfavor ingrese un numero\"))\n",
    "            numero2 = float(input(\"ingrese otro numero\"))\n",
    "            suma= numero1 + numero2\n",
    "            print(\"el resultado de tu suma es =\", suma)\n",
    "        elif opcion == 2:\n",
    "            print(\"programa finalizado\")\n",
    "            time.sleep(2)\n",
    "ejercicio_prueba();"
   ]
  },
  {
   "cell_type": "markdown",
   "metadata": {},
   "source": [
    "## Un asteroide se acerca a la tierra!!!!!\n",
    "Si un ateroide viaja mas rapido que 25km/s, saldra una advertencia en la nave"
   ]
  },
  {
   "cell_type": "code",
   "execution_count": 8,
   "metadata": {},
   "outputs": [
    {
     "name": "stdout",
     "output_type": "stream",
     "text": [
      "ALERTA un ASTEROIDE se acerca a la tierra a una velocidad de 49 Km/s!!\n"
     ]
    }
   ],
   "source": [
    "asteroide_vel = 49\n",
    "if asteroide_vel > 25:\n",
    "    print(\"ALERTA un ASTEROIDE se acerca a la tierra a una velocidad de\", asteroide_vel,\"Km/s!!\")\n",
    "else:\n",
    "    print(\"El asteroide viaja a baja velocidad, no hay porque preocuparse, su velocidad es de\", asteroide_vel,\"Km/s\")"
   ]
  },
  {
   "cell_type": "markdown",
   "metadata": {},
   "source": [
    "## Rayo de luz por un asteroide!\n",
    "un rayo de luz se percibira desde la tierra si un asteroide entra a la atmosfera a una velocidad mayor o igual a 20 Km/s"
   ]
  },
  {
   "cell_type": "code",
   "execution_count": 9,
   "metadata": {},
   "outputs": [
    {
     "name": "stdout",
     "output_type": "stream",
     "text": [
      "AVISO, en estos momentos se puede percibir el paso de un asteroide en en el cielo ya que viaja a una velocidad de 20 Km/s!!\n"
     ]
    }
   ],
   "source": [
    "vel_asteroide = 20\n",
    "if vel_asteroide >= 20:\n",
    "    print(\"AVISO, en estos momentos se puede percibir el paso de un asteroide en en el cielo ya que viaja a una velocidad de\",vel_asteroide,\"Km/s!!\")\n",
    "elif 0 < vel_asteroide < 20:\n",
    "    print(\"AVISO, el paso del asteroide no sera visible ya que viaja a una velocidad de\", vel_asteroide,\"Km/s\")\n",
    "else:\n",
    "    print(\"AVISO, ningun asteroide entrara en la atmosfera de la tierra\")"
   ]
  },
  {
   "cell_type": "markdown",
   "metadata": {},
   "source": [
    "## Las dos Alertas combinadas!!!\n",
    "En este programa se unen las alertas el acercamiento de un asteroide y si este desprendera un rayo de luz!\n"
   ]
  },
  {
   "cell_type": "code",
   "execution_count": 24,
   "metadata": {},
   "outputs": [
    {
     "name": "stdout",
     "output_type": "stream",
     "text": [
      "look at the sky, one asteroid is comming and you can see its light!, and this asteroid its not dangerous\n"
     ]
    }
   ],
   "source": [
    "vel_asteroid = 20\n",
    "size_asteroid = 20\n",
    "if vel_asteroid and size_asteroid >= 25:\n",
    "    print(\"DANGER!!!! one asteroid come to the earth and is very DANGEROUS\")\n",
    "elif 25 > vel_asteroid and size_asteroid >= 20:\n",
    "    print(\"look at the sky, one asteroid is comming and you can see its light!, and this asteroid its not dangerous\")\n",
    "elif size_asteroid and vel_asteroid < 20:\n",
    "    print(\"there is nothing to worry about :)\")\n"
   ]
  }
 ],
 "metadata": {
  "interpreter": {
   "hash": "08ba39574233dfefb8a39b9bc7b269280d01e13e950bf6d3b9545a56ae7ddc32"
  },
  "kernelspec": {
   "display_name": "Python 3.9.6 64-bit",
   "language": "python",
   "name": "python3"
  },
  "language_info": {
   "codemirror_mode": {
    "name": "ipython",
    "version": 3
   },
   "file_extension": ".py",
   "mimetype": "text/x-python",
   "name": "python",
   "nbconvert_exporter": "python",
   "pygments_lexer": "ipython3",
   "version": "3.9.6"
  },
  "orig_nbformat": 4
 },
 "nbformat": 4,
 "nbformat_minor": 2
}
